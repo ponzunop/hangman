{
  "cells": [
    {
      "cell_type": "markdown",
      "source": [
        "# 7 高等的整列"
      ],
      "metadata": {
        "id": "5wjfwn3rdDq1"
      },
      "id": "5wjfwn3rdDq1"
    },
    {
      "cell_type": "markdown",
      "source": [],
      "metadata": {
        "id": "v59xlhkUdDq4"
      },
      "id": "v59xlhkUdDq4"
    },
    {
      "cell_type": "markdown",
      "source": [
        "## 整列の時間計算量"
      ],
      "metadata": {
        "id": "uo732gjzdDq4"
      },
      "id": "uo732gjzdDq4"
    },
    {
      "cell_type": "markdown",
      "source": [
        "\n",
        "<img src=\"https://ndlsearch.ndl.go.jp/thumbnail/9784062773010.jpg\" width=\"100\">\n",
        "\n",
        "> 「この8枚の金貨の中に、1枚たけ、偽物が混じっています」<br>パスカルは楽しそうに水の充満したペットボトルを押しながら出題を始めた。<br>「偽物は他の7枚より、ほんの少しだけ軽いのです。さて、確実に1マイの偽物を見つけるのに、最低この天秤を何回使えばいいでしょう？」<br>（青柳碧人『浜村渚の計算ノート 3と1/2さつめ』（講談社, 2012）\n",
        "\n",
        "閑話休題\n",
        "\n",
        "二つの数の比較による整列の時間計算量を情報理論的に考察する。"
      ],
      "metadata": {
        "id": "WlqzvInidDq4"
      },
      "id": "WlqzvInidDq4"
    },
    {
      "cell_type": "markdown",
      "source": [
        "## 準備"
      ],
      "metadata": {
        "id": "3vh7BL2IdDq5"
      },
      "id": "3vh7BL2IdDq5"
    },
    {
      "cell_type": "markdown",
      "source": [
        "\n",
        "Pythonで，リストの一部をリストにする方法"
      ],
      "metadata": {
        "id": "gehkAy3HdDq5"
      },
      "id": "gehkAy3HdDq5"
    },
    {
      "cell_type": "code",
      "execution_count": 1,
      "metadata": {
        "colab": {
          "base_uri": "https://localhost:8080/"
        },
        "id": "6JZH8YSTdDq6",
        "outputId": "19b060c9-516d-4464-835c-7d7be1146651"
      },
      "outputs": [
        {
          "output_type": "stream",
          "name": "stdout",
          "text": [
            "[3, 1, 4]\n",
            "[1, 5, 9]\n",
            "[3, 1, 4, 1, 5, 9]\n"
          ]
        }
      ],
      "source": [
        "A = [3, 1, 4, 1, 5, 9]\n",
        "left  = A[:3] # 新しいリストができる。\n",
        "right = A[3:] # 新しいリストができる。\n",
        "\n",
        "print(left)\n",
        "print(right)\n",
        "\n",
        "left[0] = 1000 # leftを更新しても\n",
        "print(A)       # Aは元のまま"
      ],
      "id": "6JZH8YSTdDq6"
    },
    {
      "cell_type": "markdown",
      "source": [
        "## 7.1 マージソート"
      ],
      "metadata": {
        "id": "ZKJRWdFGdDq7"
      },
      "id": "ZKJRWdFGdDq7"
    },
    {
      "cell_type": "markdown",
      "source": [
        "\n",
        "-   アルゴリズム図鑑（有料）\n",
        "-   [https://ja.wikipedia.org/wiki/マージソート](https://ja.wikipedia.org/wiki/%E3%83%9E%E3%83%BC%E3%82%B8%E3%82%BD%E3%83%BC%E3%83%88)\n",
        "\n",
        "問題：[ALDS1_5_B](https://onlinejudge.u-aizu.ac.jp/courses/lesson/1/ALDS1/5/ALDS1_5_B) (Merge Sort)"
      ],
      "metadata": {
        "id": "s1FzW6y9dDq7"
      },
      "id": "s1FzW6y9dDq7"
    },
    {
      "cell_type": "code",
      "execution_count": 2,
      "metadata": {
        "colab": {
          "base_uri": "https://localhost:8080/"
        },
        "id": "mYJmL4BfdDq8",
        "outputId": "222fe6cc-a6ae-45ed-fea7-979992a5ddb5"
      },
      "outputs": [
        {
          "output_type": "stream",
          "name": "stdout",
          "text": [
            "Writing input.dat\n"
          ]
        }
      ],
      "source": [
        "%%writefile input.dat\n",
        "10\n",
        "8 5 9 2 6 3 7 1 10 4"
      ],
      "id": "mYJmL4BfdDq8"
    },
    {
      "cell_type": "code",
      "execution_count": null,
      "metadata": {
        "id": "pHLv8VI3dDq8"
      },
      "outputs": [],
      "source": [
        "%%writefile test.py\n",
        "def merge(A, left, mid, right):\n",
        "  L = A[left:mid] + [10**10]\n",
        "  R = A[mid:right] + [10**10]\n",
        "  # 自分で書いてみる。\n",
        "\n",
        "def mergeSort(A, left, right):\n",
        "  # 自分で書いてみる。\n",
        "\n",
        "n = int(input())\n",
        "A = list(map(int, input().split()))\n",
        "cnt = 0 # 比較回数を数える変数\n",
        "mergeSort(A, 0, n)\n",
        "print(*A)\n",
        "print(count)"
      ],
      "id": "pHLv8VI3dDq8"
    },
    {
      "cell_type": "code",
      "execution_count": null,
      "metadata": {
        "id": "t7OvZge7dDq8"
      },
      "outputs": [],
      "source": [
        "!python3 test.py < input.dat"
      ],
      "id": "t7OvZge7dDq8"
    },
    {
      "cell_type": "markdown",
      "source": [
        "## 準備"
      ],
      "metadata": {
        "id": "q-k22oMBdDq9"
      },
      "id": "q-k22oMBdDq9"
    },
    {
      "cell_type": "markdown",
      "source": [
        "\n",
        "7.2節と7.3節でクイックソートが完成する。それを試す前に，クイックソートと同じ分割統治法による整列を扱う。\n",
        "\n",
        "-   アルゴリズム図鑑（有料）\n",
        "-   [https://ja.wikipedia.org/wiki/クイックソート](https://ja.wikipedia.org/wiki/%E3%82%AF%E3%82%A4%E3%83%83%E3%82%AF%E3%82%BD%E3%83%BC%E3%83%88)\n",
        "\n",
        "リストを，最後の要素を基準にして，left, middle, rightに分割する。"
      ],
      "metadata": {
        "id": "4hyO0AtTdDq9"
      },
      "id": "4hyO0AtTdDq9"
    },
    {
      "cell_type": "code",
      "execution_count": null,
      "metadata": {
        "id": "as5F1Z25dDq9"
      },
      "outputs": [],
      "source": [
        "A = [13, 19, 9, 5, 12, 8, 7, 4, 21, 2, 6, 11]\n",
        "\n",
        "v = A[-1] # 最後の要素\n",
        "left   = [x for x in A if x <  v]\n",
        "middle = [x for x in A if x == v]\n",
        "right  = [x for x in A if x >  v]\n",
        "print(left, middle, right)"
      ],
      "id": "as5F1Z25dDq9"
    },
    {
      "cell_type": "markdown",
      "source": [
        "関数にする。"
      ],
      "metadata": {
        "id": "5ptyQsggdDq9"
      },
      "id": "5ptyQsggdDq9"
    },
    {
      "cell_type": "code",
      "execution_count": null,
      "metadata": {
        "id": "aequyFsidDq9"
      },
      "outputs": [],
      "source": [
        "def partition(A):\n",
        "  v = A[-1]\n",
        "  left   = [x for x in A if x <  v]\n",
        "  middle = [x for x in A if x == v]\n",
        "  right  = [x for x in A if x >  v]\n",
        "  return left, middle, right\n",
        "\n",
        "partition([13, 19, 9, 5, 12, 8, 7, 4, 21, 2, 6, 11])"
      ],
      "id": "aequyFsidDq9"
    },
    {
      "cell_type": "markdown",
      "source": [
        "再帰を使って整列する。"
      ],
      "metadata": {
        "id": "xdY32WkRdDq9"
      },
      "id": "xdY32WkRdDq9"
    },
    {
      "cell_type": "code",
      "execution_count": null,
      "metadata": {
        "id": "WDSvoj-edDq9"
      },
      "outputs": [],
      "source": [
        "def sort(A):\n",
        "  if len(A) < 2: return A\n",
        "  left, middle, right = partition(A)\n",
        "  return sort(left) + middle + sort(right)\n",
        "\n",
        "sort([13, 19, 9, 5, 12, 8, 7, 4, 21, 2, 6, 11])"
      ],
      "id": "WDSvoj-edDq9"
    },
    {
      "cell_type": "markdown",
      "source": [
        "次のようにまとめれば，整列は4行で書けることになる。"
      ],
      "metadata": {
        "id": "96bsv0KtdDq-"
      },
      "id": "96bsv0KtdDq-"
    },
    {
      "cell_type": "code",
      "execution_count": null,
      "metadata": {
        "id": "4KojACRFdDq-"
      },
      "outputs": [],
      "source": [
        "def sort(A):\n",
        "  if len(A) < 2: return A\n",
        "  v = A[-1]\n",
        "  return sort([x for x in A if x <  v]) + [x for x in A if x == v] + sort([x for x in A if x >  v])\n",
        "\n",
        "sort([13, 19, 9, 5, 12, 8, 7, 4, 21, 2, 6, 11])"
      ],
      "id": "4KojACRFdDq-"
    },
    {
      "cell_type": "markdown",
      "source": [
        "**注意：これは標準的なクイックソートではない。** 通常，クイックソートは次のようなソートだと思われている。♠[C.A.R. Hoareの原論文](https://doi.org/10.1093/comjnl/5.1.10)のものだけがクイックソートだとは思われていない。教科書ではLomutoによる分割を採用している。\\[コルメン（CLRS）\\]も同様。\n",
        "\n",
        "> クイックソートの特徴は，（スタック領域を少ししか使わないので）その場で整列できること，$N$ 個の項目の整列に平均約 $N\\log N$ 回の操作しか必要でないこと，内側のループが極端に短く書けることである。一方，欠点としては，安定でなく，最悪の場合約 $N^2$ に比例する回数の操作が必要である。（\\[セジウィック\\] p.273）\n",
        "\n",
        "整理すると次のとおり。\n",
        "\n",
        "1.  （長所：高速）平均の時間計算量が $O(n \\log n)$ の高速な整列アルゴリズムである。♠定数部分を考えると，マージソートよりも高速である。\n",
        "2.  （長所：省メモリ）追加のメモリをほとんど使わない。空間計算量は $O(\\log n)$ で，マージソートの $O(n)$ よりも少ない。\n",
        "3.  （短所：破壊的）元のデータを破壊する。この性質をインプレース（in place）ということがある。\n",
        "4.  （短所：不安定）安定ではない。つまり，キーが等しい要素の順序が保存されない。\n",
        "5.  （短所）最悪の時間計算量は $O(n^2)$ である。ただしこの短所は，分割の基準を工夫することで解決できる。\n",
        "\n",
        "先の実装は，（♠を除く）1，5は当てはまるが，2，3，4は当てはまらない。つまり，高速だが，省メモリでなく，破壊的でなく，安定である。標準的なクイックソートに対して，メモリを多く使う代わりに，安定性を得たと言える。（メモリを多く使ってよいなら，マージソートにすれば，安定性に加えて非破壊性も得られる。）\n",
        "\n",
        "♠追加のメモリが $O(1)$ であることをインプレースということもある。追加のメモリが $O(\\log n)$ であるクイックソートは，その意味ではインプレースではない。いずれにしても，破壊的な操作が不可能な純粋関数型言語ではインプレースにはできない。[Haskellの有名な“クイックソート”](https://wiki.haskell.org/Introduction#Quicksort_in_Haskell)は，$O(n)$ のメモリを必要とする。\n",
        "\n",
        "入門的な教科書では次のような実装もある。いずれも標準的なクイックソートではない。\n",
        "\n",
        "-   3個の内包の代わりに，1個のfor文で3個のリストにappendする。先の実装より高速だが，省メモリでなく，破壊的でなく，安定である。\n",
        "-   `left = [x for x in A if x <= v]`とする。先の実装より高速だが，省メモリでなく，破壊的でなく，不安定である。\n",
        "\n",
        "一般的でない実装で学ぶと，次のような問題で混乱するかもしれない。\n",
        "\n",
        "> 8.3-2 次のソーティングアルゴリズムのうち安定なものはどれか？挿入ソート，マージソート，ヒープソート，クイックソート。任意の比較ソートアルゴリズムを安定なものに修正するための簡単な方法を与えよ。この方法にはどの程度の余分な時間と領域が必要か？　\\[コルメン（CLRS）\\]"
      ],
      "metadata": {
        "id": "ROWT0xvMdDq-"
      },
      "id": "ROWT0xvMdDq-"
    },
    {
      "cell_type": "markdown",
      "source": [
        "## 7.2 パーティション"
      ],
      "metadata": {
        "id": "wdvzZDUXdDq-"
      },
      "id": "wdvzZDUXdDq-"
    },
    {
      "cell_type": "markdown",
      "source": [
        "\n",
        "問題：[ALDS1_6_B](https://onlinejudge.u-aizu.ac.jp/courses/lesson/1/ALDS1/6/ALDS1_6_B) (Partition)"
      ],
      "metadata": {
        "id": "MmcA98uMdDq-"
      },
      "id": "MmcA98uMdDq-"
    },
    {
      "cell_type": "markdown",
      "source": [
        "## 7.3 クイックソート"
      ],
      "metadata": {
        "id": "t4We0vhXdDq-"
      },
      "id": "t4We0vhXdDq-"
    },
    {
      "cell_type": "markdown",
      "source": [
        "\n",
        "問題：[ALDS1_6_C](https://onlinejudge.u-aizu.ac.jp/courses/lesson/1/ALDS1/6/ALDS1_6_C) (Quick Sort)"
      ],
      "metadata": {
        "id": "Ns8zGz4rdDq-"
      },
      "id": "Ns8zGz4rdDq-"
    },
    {
      "cell_type": "markdown",
      "source": [
        "### 準備"
      ],
      "metadata": {
        "id": "uoTlggL8dDq-"
      },
      "id": "uoTlggL8dDq-"
    },
    {
      "cell_type": "markdown",
      "source": [
        "\n",
        "データを読み込んで，安定なソートで整列してみる（Pythonの`sorted`は安定）。"
      ],
      "metadata": {
        "id": "4AOV5w9FdDq-"
      },
      "id": "4AOV5w9FdDq-"
    },
    {
      "cell_type": "code",
      "execution_count": null,
      "metadata": {
        "id": "IVwVKrx4dDq_"
      },
      "outputs": [],
      "source": [
        "%%writefile input.dat\n",
        "6\n",
        "D 3\n",
        "H 2\n",
        "D 1\n",
        "S 3\n",
        "D 2\n",
        "C 1"
      ],
      "id": "IVwVKrx4dDq_"
    },
    {
      "cell_type": "code",
      "execution_count": null,
      "metadata": {
        "id": "ye4pY8xEdDq_"
      },
      "outputs": [],
      "source": [
        "%%writefile test.py\n",
        "n = int(input())\n",
        "A = [input().split() for _ in range(n)] # n行読み込む。\n",
        "print(A)\n",
        "\n",
        "for i in range(n): A[i][1] = int(A[i][1]) # 右の要素を整数にする。\n",
        "print(A)\n",
        "\n",
        "stableSortedA = sorted(A, key=lambda x: x[1]) # 右の要素でソートする。\n",
        "for a in stableSortedA: print(*a)"
      ],
      "id": "ye4pY8xEdDq_"
    },
    {
      "cell_type": "code",
      "execution_count": null,
      "metadata": {
        "id": "tWdaYbySdDq_"
      },
      "outputs": [],
      "source": [
        "!python3 test.py < input.dat"
      ],
      "id": "tWdaYbySdDq_"
    },
    {
      "cell_type": "markdown",
      "source": [
        "### 本題"
      ],
      "metadata": {
        "id": "OvPnITv-dDq_"
      },
      "id": "OvPnITv-dDq_"
    },
    {
      "cell_type": "markdown",
      "source": [
        "\n",
        "♠クイックソートは分割方法によっていくつかのバリエーションがある。この問題は，教科書と同じ分割方法を使わないとACにならない。例えば，NumPyの`np.sort`は`kind='quicksort'`とするとクイックソートになるが，分割方法が教科書とは異なるため，ここでは使えない。\n",
        "\n",
        "教科書の擬似コードをPythonに翻訳すると，次のようなクイックソートになる。"
      ],
      "metadata": {
        "id": "5c32ZzWAdDq_"
      },
      "id": "5c32ZzWAdDq_"
    },
    {
      "cell_type": "code",
      "execution_count": 4,
      "metadata": {
        "colab": {
          "base_uri": "https://localhost:8080/"
        },
        "id": "LqpxWGJldDrA",
        "outputId": "e6c76d28-22ea-4a10-9685-e02a3b5858e3"
      },
      "outputs": [
        {
          "output_type": "execute_result",
          "data": {
            "text/plain": [
              "[2, 4, 5, 6, 7, 8, 9, 11, 12, 13, 19, 21]"
            ]
          },
          "metadata": {},
          "execution_count": 4
        }
      ],
      "source": [
        "def partition(A, p, r):\n",
        "  x = A[r]\n",
        "  i = p - 1\n",
        "  for j in range(p, r):\n",
        "    if A[j] <= x:\n",
        "      i += 1\n",
        "      A[i], A[j] = A[j], A[i]\n",
        "  A[i + 1], A[r] = A[r], A[i + 1]\n",
        "  return i + 1\n",
        "\n",
        "def quickSort(A, p, r):\n",
        "  if p < r:\n",
        "    q = partition(A, p, r)\n",
        "    quickSort(A, p, q - 1)\n",
        "    quickSort(A, q + 1, r)\n",
        "\n",
        "A = [13, 19, 9, 5, 12, 8, 7, 4, 21, 2, 6, 11]\n",
        "quickSort(A, 0, len(A) - 1)\n",
        "A"
      ],
      "id": "LqpxWGJldDrA"
    },
    {
      "cell_type": "markdown",
      "source": [
        "この関数で整列できるのは数値のリストであって，この問題での入力データは，そのままでは整列できない。次のような対策がある。\n",
        "\n",
        "-   （対策1）`partition`の中で，比較に使うデータを`A[r][1]`のように変更する。（長所：単純。短所：数のリストのソートができなくなる。）\n",
        "-   ♠（対策2）絵柄と数をまとめるクラス`Element`を作り，次のメソッドを定義する。（長所：既存の関数には変更がない。短所：面倒）\n",
        "    -   `partition`で使う`<=`のためのメソッド`__le__`\n",
        "    -   安定かどうかの確認に使う`==`のためのメソッド`__eq__`\n",
        "    -   print用のメソッド`__str__`\n",
        "\n",
        "第1の対策は単純だから自分でやってみる。\n",
        "\n",
        "♠第2の対策のためのコードは次のようになる。"
      ],
      "metadata": {
        "id": "XQSFSu25dDrA"
      },
      "id": "XQSFSu25dDrA"
    },
    {
      "cell_type": "code",
      "execution_count": 5,
      "metadata": {
        "colab": {
          "base_uri": "https://localhost:8080/",
          "height": 237
        },
        "id": "35yKpxQXdDrA",
        "outputId": "1d15d014-221e-4983-fd55-24027bb5bc57"
      },
      "outputs": [
        {
          "name": "stdout",
          "output_type": "stream",
          "text": [
            "5 7\n"
          ]
        },
        {
          "output_type": "error",
          "ename": "ValueError",
          "evalue": "invalid literal for int() with base 10: '5 7'",
          "traceback": [
            "\u001b[0;31m---------------------------------------------------------------------------\u001b[0m",
            "\u001b[0;31mValueError\u001b[0m                                Traceback (most recent call last)",
            "\u001b[0;32m<ipython-input-5-e8b9c1219bd7>\u001b[0m in \u001b[0;36m<cell line: 0>\u001b[0;34m()\u001b[0m\n\u001b[1;32m     17\u001b[0m     \u001b[0;32mreturn\u001b[0m \u001b[0;34mf\"{self.suit} {self.number}\"\u001b[0m\u001b[0;34m\u001b[0m\u001b[0;34m\u001b[0m\u001b[0m\n\u001b[1;32m     18\u001b[0m \u001b[0;34m\u001b[0m\u001b[0m\n\u001b[0;32m---> 19\u001b[0;31m \u001b[0mn\u001b[0m \u001b[0;34m=\u001b[0m \u001b[0mint\u001b[0m\u001b[0;34m(\u001b[0m\u001b[0minput\u001b[0m\u001b[0;34m(\u001b[0m\u001b[0;34m)\u001b[0m\u001b[0;34m)\u001b[0m\u001b[0;34m\u001b[0m\u001b[0;34m\u001b[0m\u001b[0m\n\u001b[0m\u001b[1;32m     20\u001b[0m \u001b[0mA\u001b[0m \u001b[0;34m=\u001b[0m \u001b[0;34m[\u001b[0m\u001b[0minput\u001b[0m\u001b[0;34m(\u001b[0m\u001b[0;34m)\u001b[0m\u001b[0;34m.\u001b[0m\u001b[0msplit\u001b[0m\u001b[0;34m(\u001b[0m\u001b[0;34m)\u001b[0m \u001b[0;32mfor\u001b[0m \u001b[0m_\u001b[0m \u001b[0;32min\u001b[0m \u001b[0mrange\u001b[0m\u001b[0;34m(\u001b[0m\u001b[0mn\u001b[0m\u001b[0;34m)\u001b[0m\u001b[0;34m]\u001b[0m\u001b[0;34m\u001b[0m\u001b[0;34m\u001b[0m\u001b[0m\n\u001b[1;32m     21\u001b[0m \u001b[0;32mfor\u001b[0m \u001b[0mi\u001b[0m \u001b[0;32min\u001b[0m \u001b[0mrange\u001b[0m\u001b[0;34m(\u001b[0m\u001b[0mn\u001b[0m\u001b[0;34m)\u001b[0m\u001b[0;34m:\u001b[0m \u001b[0mA\u001b[0m\u001b[0;34m[\u001b[0m\u001b[0mi\u001b[0m\u001b[0;34m]\u001b[0m\u001b[0;34m[\u001b[0m\u001b[0;36m1\u001b[0m\u001b[0;34m]\u001b[0m \u001b[0;34m=\u001b[0m \u001b[0mint\u001b[0m\u001b[0;34m(\u001b[0m\u001b[0mA\u001b[0m\u001b[0;34m[\u001b[0m\u001b[0mi\u001b[0m\u001b[0;34m]\u001b[0m\u001b[0;34m[\u001b[0m\u001b[0;36m1\u001b[0m\u001b[0;34m]\u001b[0m\u001b[0;34m)\u001b[0m\u001b[0;34m\u001b[0m\u001b[0;34m\u001b[0m\u001b[0m\n",
            "\u001b[0;31mValueError\u001b[0m: invalid literal for int() with base 10: '5 7'"
          ]
        }
      ],
      "source": [
        "# partitionは変更無し\n",
        "\n",
        "# quickSortは変更無し\n",
        "\n",
        "class Element:\n",
        "  def __init__(self, pair):\n",
        "    self.suit = pair[0]  # 絵柄\n",
        "    self.number = pair[1]  # 数\n",
        "\n",
        "  def __le__(self, other):\n",
        "    return self.number <= other.number  # <= のためのメソッド\n",
        "\n",
        "  def __eq__(self, other): # == のためのメソッド\n",
        "    return self.suit == other.suit and self.number == other.number\n",
        "\n",
        "  def __str__(self): # print用のメソッド\n",
        "    return f\"{self.suit} {self.number}\"\n",
        "\n",
        "n = int(input())\n",
        "A = [input().split() for _ in range(n)] #n行読み込む\n",
        "for i in range(n): A[i][1] = int(A[i][1])\n",
        "A = [Element(a) for a in A] # Elementのリストに変換する。\n",
        "\n",
        "stableSortedA = sorted(A, key=lambda x: x.number) # 安定な整列（keyに注意）\n",
        "\n",
        "quickSort(A, 0, len(A) - 1) # クイックソート（破壊的だから後）\n",
        "\n",
        "if A == stableSortedA: print('Stable')\n",
        "else: print('Not stable')\n",
        "for a in A: print(a)"
      ],
      "id": "35yKpxQXdDrA"
    },
    {
      "cell_type": "code",
      "source": [
        "n = int(input())\n",
        "A = [input().split() for _ in range(n)] #n行読み込む\n",
        "for i in range(n): A[i][1] = int(A[i][1]) #右の要素を整数にする\n",
        "A = [Element(a) for a in A] # Elementのリストに変換する。\n",
        "\n",
        "stableSortedA = sorted(A, key=lambda x: x.number) # 安定な整列（keyに注意）\n",
        "\n",
        "quickSort(A, 0, len(A) - 1) # クイックソート（破壊的だから後）\n",
        "\n",
        "if A == stableSortedA: print('Stable')\n",
        "else: print('Not stable')\n",
        "for a in A: print(a)"
      ],
      "metadata": {
        "id": "SqCzmsMLuoP_"
      },
      "id": "SqCzmsMLuoP_",
      "execution_count": null,
      "outputs": []
    },
    {
      "cell_type": "markdown",
      "source": [
        "## 7.4 計数ソート"
      ],
      "metadata": {
        "id": "ImM7r-XmdDrA"
      },
      "id": "ImM7r-XmdDrA"
    },
    {
      "cell_type": "markdown",
      "source": [
        "\n",
        "問題：[ALDS1_6_A](https://onlinejudge.u-aizu.ac.jp/courses/lesson/1/ALDS1/6/ALDS1_6_A) (Counting Sort)\n",
        "\n",
        "クイックソートではTLEになる。（Pythonの`.sort`や`sorted`を使えばACになるが，そんなことをしてもしょうがない。）"
      ],
      "metadata": {
        "id": "KmnctySWdDrA"
      },
      "id": "KmnctySWdDrA"
    },
    {
      "cell_type": "code",
      "execution_count": null,
      "metadata": {
        "id": "UeM1VPEwdDrA"
      },
      "outputs": [],
      "source": [
        "import sys\n",
        "sys.setrecursionlimit(10**6) # 再帰の関数制限の緩和\n",
        "\n",
        "def partition(A, p, r):\n",
        "  x = A[r]\n",
        "  i = p - 1\n",
        "  for j in range(p, r):\n",
        "    if A[j] <= x:\n",
        "      i += 1\n",
        "      A[i], A[j] = A[j], A[i]\n",
        "  A[i + 1], A[r] = A[r], A[i + 1]\n",
        "  return i + 1\n",
        "\n",
        "def quickSort(A, p, r):\n",
        "  if p < r:\n",
        "    q = partition(A, p, r)\n",
        "    quickSort(A, p, q - 1)\n",
        "    quickSort(A, q + 1, r)\n",
        "\n",
        "n = int(input())\n",
        "A = list(map(int, input().split()))\n",
        "quickSort(A, 0, len(A) - 1)\n",
        "print(*A)"
      ],
      "id": "UeM1VPEwdDrA"
    },
    {
      "cell_type": "markdown",
      "source": [
        "計数ソートを実装する。0オリジンで実装する場合，教科書の`B[C[A[j]]] = A[j]`は`B[C[A[j]] - 1] = A[j]`になる。"
      ],
      "metadata": {
        "id": "YVyAs4Y4dDrE"
      },
      "id": "YVyAs4Y4dDrE"
    },
    {
      "cell_type": "code",
      "execution_count": null,
      "metadata": {
        "id": "bmjH0CAzdDrE"
      },
      "outputs": [],
      "source": [
        "def CountingSort(A):\n",
        "  n = len(A)\n",
        "  k = 10000\n",
        "  B = [0] * n\n",
        "  C = [0] * (k + 1)\n",
        "\n",
        "  #後は自分で書いてみる\n",
        "  for a in A: C[a] += 1 #出現数を数える\n",
        "\n",
        "  for a in range(1, k): C[i] + C[i - 1]#累積頻度\n",
        "\n",
        "  for j in range(n-1,-1,-1):#後ろから再現\n",
        "    B[C[A[j]] - 1]=A[j]\n",
        "    C[A[j]] -= 1\n",
        "\n",
        "  return B\n",
        "\n",
        " B = int(input())\n",
        " A = list(map(int,input().split()))\n",
        "print(*CountingSort(A))\n"
      ],
      "id": "bmjH0CAzdDrE"
    },
    {
      "cell_type": "markdown",
      "source": [
        "## ♠7.6 反転数"
      ],
      "metadata": {
        "id": "Dz1c9I_DdDrF"
      },
      "id": "Dz1c9I_DdDrF"
    },
    {
      "cell_type": "markdown",
      "source": [
        "\n",
        "問題：[ALDS1_5_D](https://onlinejudge.u-aizu.ac.jp/courses/lesson/1/ALDS1/5/ALDS1_5_D) (The Number of Inversions)"
      ],
      "metadata": {
        "id": "rcSaWJDOdDrF"
      },
      "id": "rcSaWJDOdDrF"
    },
    {
      "cell_type": "markdown",
      "source": [
        "## ♠7.7 最小コストソート"
      ],
      "metadata": {
        "id": "riFmmc-DdDrF"
      },
      "id": "riFmmc-DdDrF"
    },
    {
      "cell_type": "markdown",
      "source": [
        "\n",
        "問題：[ALDS1_6_D](https://onlinejudge.u-aizu.ac.jp/courses/lesson/1/ALDS1/6/ALDS1_6_D) (Minimum Cost Sort)"
      ],
      "metadata": {
        "id": "4pqC-yEvdDrF"
      },
      "id": "4pqC-yEvdDrF"
    },
    {
      "cell_type": "markdown",
      "source": [
        "## 宿題"
      ],
      "metadata": {
        "id": "Q1mUqitidDrF"
      },
      "id": "Q1mUqitidDrF"
    },
    {
      "cell_type": "markdown",
      "source": [
        "\n",
        "以下の問題をAC（Accepted）にする。Pythonを使うこと。\n",
        "\n",
        "-   [ALDS1_5_B](https://onlinejudge.u-aizu.ac.jp/courses/lesson/1/ALDS1/5/ALDS1_5_B) (Merge Sort)\n",
        "-   [ALDS1_6_B](https://onlinejudge.u-aizu.ac.jp/courses/lesson/1/ALDS1/6/ALDS1_6_B) (Partition)\n",
        "-   [ALDS1_6_C](https://onlinejudge.u-aizu.ac.jp/courses/lesson/1/ALDS1/6/ALDS1_6_C) (Quick Sort)\n",
        "-   [ALDS1_6_A](https://onlinejudge.u-aizu.ac.jp/courses/lesson/1/ALDS1/6/ALDS1_6_A) (Counting Sort)\n",
        "-   ♠[ALDS1_5_D](https://onlinejudge.u-aizu.ac.jp/courses/lesson/1/ALDS1/5/ALDS1_5_D) (The Number of Inversions)\n",
        "-   ♠[ALDS1_6_D](https://onlinejudge.u-aizu.ac.jp/courses/lesson/1/ALDS1/6/ALDS1_6_D) (Minimum Cost Sort)\n",
        "\n",
        "以上"
      ],
      "metadata": {
        "id": "_4nQFG7YdDrF"
      },
      "id": "_4nQFG7YdDrF"
    }
  ],
  "nbformat": 4,
  "nbformat_minor": 5,
  "metadata": {
    "colab": {
      "provenance": []
    },
    "language_info": {
      "name": "python"
    },
    "kernelspec": {
      "name": "python3",
      "display_name": "Python 3"
    }
  }
}