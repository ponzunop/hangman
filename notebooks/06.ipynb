{
  "cells": [
    {
      "cell_type": "markdown",
      "source": [
        "# 6 再帰・分割統治法"
      ],
      "metadata": {
        "id": "bzxSlA41np21"
      },
      "id": "bzxSlA41np21"
    },
    {
      "cell_type": "markdown",
      "source": [],
      "metadata": {
        "id": "_d4cHdxznp23"
      },
      "id": "_d4cHdxznp23"
    },
    {
      "cell_type": "markdown",
      "source": [
        "## 6.1 再帰と分割統治：問題にチャレンジする前に"
      ],
      "metadata": {
        "id": "8VYzZDVqnp23"
      },
      "id": "8VYzZDVqnp23"
    },
    {
      "cell_type": "markdown",
      "source": [],
      "metadata": {
        "id": "x9jDyJ4dnp24"
      },
      "id": "x9jDyJ4dnp24"
    },
    {
      "cell_type": "markdown",
      "source": [
        "### 階乗"
      ],
      "metadata": {
        "id": "sBwLgNxrnp24"
      },
      "id": "sBwLgNxrnp24"
    },
    {
      "cell_type": "markdown",
      "source": [
        "\n",
        "問題：[abc273_a](https://atcoder.jp/contests/abc273/tasks/abc273_a) (A Recursive Function)"
      ],
      "metadata": {
        "id": "El2GIlDDnp24"
      },
      "id": "El2GIlDDnp24"
    },
    {
      "cell_type": "markdown",
      "source": [
        "### 1 2 1 3 1 2 1"
      ],
      "metadata": {
        "id": "qzdg5cm7np25"
      },
      "id": "qzdg5cm7np25"
    },
    {
      "cell_type": "code",
      "source": [
        "n = int(input())\n",
        "def factorial(n):\n",
        "  if n == 0:\n",
        "    return 1\n",
        "  else:\n",
        "    return n * factorial(n-1)\n",
        "\n",
        "print(factorial(n))"
      ],
      "metadata": {
        "id": "UFZdH_5oqg8H"
      },
      "id": "UFZdH_5oqg8H",
      "execution_count": null,
      "outputs": []
    },
    {
      "cell_type": "markdown",
      "source": [
        "\n",
        "再帰の練習のための問題\n",
        "\n",
        "問題：[abc247_c](https://atcoder.jp/contests/abc247/tasks/abc247_c) (1 2 1 3 1 2 1)"
      ],
      "metadata": {
        "id": "JJchZgKVnp25"
      },
      "id": "JJchZgKVnp25"
    },
    {
      "cell_type": "code",
      "source": [
        "def build_S(n):\n",
        "  if n == 1:\n",
        "    return[1]\n",
        "  prev = build_S(n - 1)\n",
        "  return prev + [n] + prev\n",
        "\n",
        "def main():\n",
        "  n = int(input().strip())\n",
        "  ans = build_S(n)\n",
        "  print(*ans)\n",
        "\n",
        "if __name__ == \"__main__\":\n",
        "  main()"
      ],
      "metadata": {
        "id": "Mj0rwjZ89WPp"
      },
      "id": "Mj0rwjZ89WPp",
      "execution_count": null,
      "outputs": []
    },
    {
      "cell_type": "markdown",
      "source": [
        "### 最大公約数（教科書p.441）"
      ],
      "metadata": {
        "id": "fOwfBihknp25"
      },
      "id": "fOwfBihknp25"
    },
    {
      "cell_type": "markdown",
      "source": [
        "\n",
        "問題：[ALDS1_1_B](https://onlinejudge.u-aizu.ac.jp/courses/lesson/1/ALDS1/1/ALDS1_1_B) (Greatest Common Divisor)\n",
        "\n",
        "Program 18.5を実装して提出するとTLEになる。"
      ],
      "metadata": {
        "id": "Mn34Rah1np26"
      },
      "id": "Mn34Rah1np26"
    },
    {
      "cell_type": "code",
      "execution_count": null,
      "metadata": {
        "id": "pFoG-Kcenp26"
      },
      "outputs": [],
      "source": [
        "def gcd(x, y):\n",
        "  n = min(x, y)\n",
        "  for d in range(n, 0, -1):\n",
        "    if x % d == 0 and y % d == 0:\n",
        "      return d\n",
        "\n",
        "x, y = map(int, input().split())\n",
        "print(gcd(x, y))"
      ],
      "id": "pFoG-Kcenp26"
    },
    {
      "cell_type": "code",
      "source": [
        "#ユーグリッドの互除法を使う\n",
        "def gcd(x, y):\n",
        "    # ステップ 1: y が 0 ならばこれ以上割れないので x が最大公約数\n",
        "    if y == 0:\n",
        "        return x\n",
        "    # ステップ 2: そうでなければ、「y と x % y の gcd」を再帰で求める\n",
        "    return gcd(y, x % y)\n",
        "\n",
        "x, y = map(int, input().split())\n",
        "print(gcd(x, y))"
      ],
      "metadata": {
        "id": "VFKl5ro4Aer1"
      },
      "id": "VFKl5ro4Aer1",
      "execution_count": null,
      "outputs": []
    },
    {
      "cell_type": "markdown",
      "source": [
        "> ここでEuclidのアルゴリズムを示しておくことは，無意味ではあるまい。（TAOCP 1）\n",
        "\n",
        "アルゴリズム図鑑"
      ],
      "metadata": {
        "id": "RBVV7b1Enp26"
      },
      "id": "RBVV7b1Enp26"
    },
    {
      "cell_type": "markdown",
      "source": [
        "## 6.2 全探索"
      ],
      "metadata": {
        "id": "xyyKF-mlnp26"
      },
      "id": "xyyKF-mlnp26"
    },
    {
      "cell_type": "markdown",
      "source": [
        "\n",
        "練習：{1, 2, 3}の部分集合を全て列挙する。"
      ],
      "metadata": {
        "id": "curZqDS2np26"
      },
      "id": "curZqDS2np26"
    },
    {
      "cell_type": "code",
      "execution_count": 1,
      "metadata": {
        "id": "bv8HL0-Gnp26",
        "outputId": "d07a3e09-8b08-456b-9ca6-a617746428be",
        "colab": {
          "base_uri": "https://localhost:8080/"
        }
      },
      "outputs": [
        {
          "output_type": "stream",
          "name": "stdout",
          "text": [
            "[1, 2, 3]\n",
            "[1, 2]\n",
            "[1, 3]\n",
            "[1]\n",
            "[2, 3]\n",
            "[2]\n",
            "[3]\n",
            "[]\n"
          ]
        }
      ],
      "source": [
        "A = [1, 2, 3]\n",
        "\n",
        "def subset(A, s):\n",
        "  if len(A) == 0:\n",
        "    print(s)\n",
        "  else:\n",
        "    subset(A[1:], s + [A[0]])\n",
        "    subset(A[1:], s)\n",
        "\n",
        "subset(A, [])"
      ],
      "id": "bv8HL0-Gnp26"
    },
    {
      "cell_type": "markdown",
      "source": [
        "問題：[ALDS1_5_A](https://onlinejudge.u-aizu.ac.jp/courses/lesson/1/ALDS1/5/ALDS1_5_A) (Exhaustive Search)\n",
        "\n",
        "まずは，Program 6.4をPythonで実装して，次のコードで動作を確認する。"
      ],
      "metadata": {
        "id": "xDwDH5VUnp27"
      },
      "id": "xDwDH5VUnp27"
    },
    {
      "cell_type": "code",
      "execution_count": null,
      "metadata": {
        "id": "nLEORpE3np27"
      },
      "outputs": [],
      "source": [
        "# ここでsolve(i, m)を定義する。\n",
        "\n",
        "A = [1, 5, 7]\n",
        "n = len(A)\n",
        "solve(0, 8)"
      ],
      "id": "nLEORpE3np27"
    },
    {
      "cell_type": "code",
      "source": [
        "def dfs(i, total, A, n):\n",
        "    if total == 0:\n",
        "        return True\n",
        "    if i == n:\n",
        "        return False\n",
        "\n",
        "    # A[i] を使う場合 or 使わない場合\n",
        "    return dfs(i + 1, total - A[i], A, n) or dfs(i + 1, total, A, n)\n",
        "\n",
        "# 入力処理\n",
        "n = int(input())\n",
        "A = list(map(int, input().split()))\n",
        "q = int(input())\n",
        "B = list(map(int, input().split()))\n",
        "\n",
        "for b in B:\n",
        "    print(\"yes\" if dfs(0, b, A, n) else \"no\")"
      ],
      "metadata": {
        "id": "T1zKwaW5TFXx"
      },
      "id": "T1zKwaW5TFXx",
      "execution_count": null,
      "outputs": []
    },
    {
      "cell_type": "markdown",
      "source": [
        "それができたら，データを読み込んで処理できるようにする。"
      ],
      "metadata": {
        "id": "CWsIcN-Vnp27"
      },
      "id": "CWsIcN-Vnp27"
    },
    {
      "cell_type": "code",
      "execution_count": null,
      "metadata": {
        "id": "CE4cVTM1np27"
      },
      "outputs": [],
      "source": [
        "%%writefile input.dat\n",
        "5\n",
        "1 5 7 10 21\n",
        "4\n",
        "2 4 17 8"
      ],
      "id": "CE4cVTM1np27"
    },
    {
      "cell_type": "code",
      "execution_count": null,
      "metadata": {
        "id": "DpxAchBknp27"
      },
      "outputs": [],
      "source": [
        "%%writefile test.py\n",
        "n = ...\n",
        "A = ...\n",
        "q = ...\n",
        "m = ...\n",
        "\n",
        "for x in m:\n",
        "..."
      ],
      "id": "DpxAchBknp27"
    },
    {
      "cell_type": "markdown",
      "source": [
        "``` coede\n",
        "!python3 test.py < input.dat\n",
        "```\n",
        "\n",
        "TLEになってしまう場合：\n",
        "\n",
        "-   PyPy3を使う。\n",
        "-   ♠Aの部分集合で作れる数を全て求めて集合にしておいて，mについてのループで探索する。（mの要素ごとに全探索するのは効率が悪い。）"
      ],
      "metadata": {
        "id": "5hxhpPr2np27"
      },
      "id": "5hxhpPr2np27"
    },
    {
      "cell_type": "markdown",
      "source": [
        "## ♠6.3 コッホ曲線"
      ],
      "metadata": {
        "id": "0Cp8FhQKnp27"
      },
      "id": "0Cp8FhQKnp27"
    },
    {
      "cell_type": "markdown",
      "source": [
        "\n",
        "♠回転を考えない，シェルピンスキーの三角形の方が，再帰の練習には向いていると思う。\n",
        "\n",
        "> Google Colabで実行できる，シェルピンスキーの三角形をPythonで描くコード。再帰の回数を指定できるようにして\n",
        "\n",
        "（割愛）\n",
        "\n",
        "問題：[ALDS1_5_C](https://onlinejudge.u-aizu.ac.jp/courses/lesson/1/ALDS1/5/ALDS1_5_C) (Koch Curve)\n",
        "\n",
        "おまけ：コッホ曲線の描画\n",
        "\n",
        "正しく動くようになったら，次のように結果をoutput.datに保存して，それを読み込んで可視化する。"
      ],
      "metadata": {
        "id": "BxzDtfkEnp27"
      },
      "id": "BxzDtfkEnp27"
    },
    {
      "cell_type": "code",
      "execution_count": null,
      "metadata": {
        "id": "GMoeZdgrnp27"
      },
      "outputs": [],
      "source": [
        "!python3 test.py < input.dat > output.dat"
      ],
      "id": "GMoeZdgrnp27"
    },
    {
      "cell_type": "markdown",
      "source": [
        "出力例2で試す。"
      ],
      "metadata": {
        "id": "XS6brpRqnp27"
      },
      "id": "XS6brpRqnp27"
    },
    {
      "cell_type": "code",
      "execution_count": null,
      "metadata": {
        "id": "8BHLZR6Qnp27"
      },
      "outputs": [],
      "source": [
        "%%writefile output.dat\n",
        "0.00000000 0.00000000\n",
        "11.11111111 0.00000000\n",
        "16.66666667 9.62250449\n",
        "22.22222222 0.00000000\n",
        "33.33333333 0.00000000\n",
        "38.88888889 9.62250449\n",
        "33.33333333 19.24500897\n",
        "44.44444444 19.24500897\n",
        "50.00000000 28.86751346\n",
        "55.55555556 19.24500897\n",
        "66.66666667 19.24500897\n",
        "61.11111111 9.62250449\n",
        "66.66666667 0.00000000\n",
        "77.77777778 0.00000000\n",
        "83.33333333 9.62250449\n",
        "88.88888889 0.00000000\n",
        "100.00000000 0.00000000"
      ],
      "id": "8BHLZR6Qnp27"
    },
    {
      "cell_type": "markdown",
      "source": [
        "> 1行に1個，点の座標が記録されたファイルoutput.datを読み込んで，点を順番に直線で結んだ結果を描く。\n",
        "\n",
        "生成されるコードの例を示す。"
      ],
      "metadata": {
        "id": "G6U0Jdyznp28"
      },
      "id": "G6U0Jdyznp28"
    },
    {
      "cell_type": "code",
      "execution_count": null,
      "metadata": {
        "id": "AiWYL0k_np28"
      },
      "outputs": [],
      "source": [
        "import matplotlib.pyplot as plt\n",
        "\n",
        "# ファイルから座標を読み込む\n",
        "points = []\n",
        "with open(\"output.dat\") as f:\n",
        "  for line in f:\n",
        "    x, y = map(float, line.strip().split())\n",
        "    points.append((x, y))\n",
        "\n",
        "# x座標とy座標に分割\n",
        "xs, ys = zip(*points)\n",
        "\n",
        "# 直線で結ぶ\n",
        "plt.plot(xs, ys, marker='o')  # 点も見えるように marker をつける\n",
        "plt.title(\"Points from output.dat\")\n",
        "plt.xlabel(\"X\")\n",
        "plt.ylabel(\"Y\")\n",
        "plt.grid(True)\n",
        "plt.axis(\"equal\")  # 比率を正確にする\n",
        "plt.show()"
      ],
      "id": "AiWYL0k_np28"
    },
    {
      "cell_type": "markdown",
      "source": [
        "## 宿題"
      ],
      "metadata": {
        "id": "SVYi0_g4np28"
      },
      "id": "SVYi0_g4np28"
    },
    {
      "cell_type": "markdown",
      "source": [
        "\n",
        "以下の問題をAC（Accepted）にする。Pythonを使うこと。\n",
        "\n",
        "-   [abc273_a](https://atcoder.jp/contests/abc273/tasks/abc273_a) (A Recursive Function)\n",
        "-   [abc247_c](https://atcoder.jp/contests/abc247/tasks/abc247_c) (1 2 1 3 1 2 1)\n",
        "-   [ALDS1_1_B](https://onlinejudge.u-aizu.ac.jp/courses/lesson/1/ALDS1/1/ALDS1_1_B) (Greatest Common Divisor)\n",
        "-   [ALDS1_5_A](https://onlinejudge.u-aizu.ac.jp/courses/lesson/1/ALDS1/5/ALDS1_5_A) (Exhaustive Search)\n",
        "-   ♠[ALDS1_5_C](https://onlinejudge.u-aizu.ac.jp/courses/lesson/1/ALDS1/5/ALDS1_5_C) (Koch Curve)\n",
        "\n",
        "以上"
      ],
      "metadata": {
        "id": "LmF5_YLznp28"
      },
      "id": "LmF5_YLznp28"
    }
  ],
  "nbformat": 4,
  "nbformat_minor": 5,
  "metadata": {
    "colab": {
      "provenance": []
    },
    "language_info": {
      "name": "python"
    },
    "kernelspec": {
      "name": "python3",
      "display_name": "Python 3"
    }
  }
}